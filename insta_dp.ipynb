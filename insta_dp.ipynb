{
 "cells": [
  {
   "cell_type": "code",
   "execution_count": 2,
   "metadata": {},
   "outputs": [
    {
     "name": "stdout",
     "output_type": "stream",
     "text": [
      "enter the username - poojamathur486\n"
     ]
    }
   ],
   "source": [
    "#imports\n",
    "import urllib.error, urllib.parse, urllib.request\n",
    "from bs4 import BeautifulSoup\n",
    "import ssl, re, sys\n",
    "from PIL import Image\n",
    "from io import BytesIO\n",
    "\n",
    "#input username\n",
    "username = input('enter the username - ')\n",
    "url = \"https://www.instagram.com/{}/\".format(username)\n",
    "\n",
    "#the following block is used to take care of the SSL certificate\n",
    "#it is not mandatory to perform this step\n",
    "ctx = ssl.create_default_context()\n",
    "ctx.check_hostname = False\n",
    "ctx.verify_mode = ssl.CERT_NONE\n",
    "\n",
    "\n",
    "#header parameter is used to resolve the bad gateway 502 error\n",
    "req = urllib.request.Request(url, headers={'User-Agent': 'Mozilla/5.0'})\n",
    "\n",
    "try:\n",
    "    #opening the URL and parsing it into BeautifulSoup\n",
    "    html = urllib.request.urlopen(req, context=ctx).read()\n",
    "except:\n",
    "    print(\"Page Not Found or check your internet connectivity\")\n",
    "    sys.exit()\n",
    "\n",
    "soup = BeautifulSoup(html, 'html.parser')\n",
    "tags = soup.find_all('body')\n",
    "\n",
    "#using regualr expression to extract the image URL\n",
    "profile_pic_url_hd = re.findall(\"profile_pic_url_hd\\\":\\\"([\\S]+?)\\\"\",str(tags[0]))[0]\n",
    "\n",
    "#opening the image from the the URL\n",
    "response = urllib.request.urlopen(profile_pic_url_hd).read()\n",
    "img = Image.open(BytesIO(response))\n",
    "img.show()"
   ]
  },
  {
   "cell_type": "code",
   "execution_count": 7,
   "metadata": {},
   "outputs": [],
   "source": []
  },
  {
   "cell_type": "code",
   "execution_count": null,
   "metadata": {},
   "outputs": [],
   "source": []
  }
 ],
 "metadata": {
  "file_extension": ".py",
  "kernelspec": {
   "display_name": "Python 3",
   "language": "python",
   "name": "python3"
  },
  "language_info": {
   "codemirror_mode": {
    "name": "ipython",
    "version": 3
   },
   "file_extension": ".py",
   "mimetype": "text/x-python",
   "name": "python",
   "nbconvert_exporter": "python",
   "pygments_lexer": "ipython3",
   "version": "3.7.3"
  },
  "mimetype": "text/x-python",
  "name": "python",
  "npconvert_exporter": "python",
  "pygments_lexer": "ipython3",
  "version": 3
 },
 "nbformat": 4,
 "nbformat_minor": 2
}
